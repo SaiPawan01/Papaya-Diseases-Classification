{
 "cells": [
  {
   "cell_type": "code",
   "execution_count": null,
   "id": "4a934940",
   "metadata": {},
   "outputs": [],
   "source": [
    "import torch\n",
    "import torch.nn as nn\n",
    "import torchvision.transforms as transforms\n",
    "import torchvision.models as models\n",
    "from sklearn.metrics import confusion_matrix\n",
    "\n",
    "from torchvision.datasets import ImageFolder\n",
    "from torch.utils.data import DataLoader\n",
    "\n",
    "import os\n",
    "from tqdm import tqdm\n",
    "import pandas as pd\n",
    "import matplotlib.pyplot as plt\n",
    "import seaborn as sns"
   ]
  },
  {
   "cell_type": "code",
   "execution_count": null,
   "id": "5317ee69",
   "metadata": {},
   "outputs": [],
   "source": [
    "# device agnoistic code \n",
    "device = 'cuda' if torch.cuda.is_available() else 'cpu'"
   ]
  },
  {
   "cell_type": "code",
   "execution_count": null,
   "id": "32220bec",
   "metadata": {},
   "outputs": [],
   "source": [
    "# training loop\n",
    "def testing_loop(model:nn.Module,test_dataLoader:DataLoader,loss_fn:nn.Module):\n",
    "    \n",
    "    # move model to the device\n",
    "    model = model.to(device)\n",
    "    model.eval()\n",
    "\n",
    "    total_loss = 0\n",
    "    correct_predictions = 0\n",
    "    total_predictions = 0\n",
    "\n",
    "    Actual_values = []\n",
    "    Predicted_Values = []\n",
    "    \n",
    "    with torch.no_grad():\n",
    "\n",
    "        batch = 0\n",
    "        for images,labels in tqdm(test_dataLoader):\n",
    "\n",
    "            # move to the device\n",
    "            images = images.to(device)\n",
    "            labels = labels.to(device)\n",
    "            Actual_values.extend(labels.cpu().numpy())\n",
    "\n",
    "            # make predictions\n",
    "            predictions = model(images)\n",
    "\n",
    "            # calculate loss\n",
    "            loss = loss_fn(predictions,labels).item()\n",
    "            total_loss += loss\n",
    "            \n",
    "            # calculate accuracy\n",
    "            _,predicted = torch.max(predictions,1)\n",
    "            Predicted_Values.extend(predicted.cpu().numpy())\n",
    "\n",
    "            \n",
    "            total_predictions += labels.size(0)\n",
    "            correct_batch_predictions = (predicted == labels).sum().item()\n",
    "            correct_predictions += correct_batch_predictions\n",
    "\n",
    "            # batch loss and accuracy\n",
    "            # batch_accuracy = 100*correct_batch_predictions/16\n",
    "            batch+=1\n",
    "            # print(f\"Batch : {batch} || Loss : {loss} || Accuracy : {batch_accuracy}\")\n",
    "        \n",
    "\n",
    "        # total loss & accuracy\n",
    "        total_loss = total_loss/len(test_dataLoader)\n",
    "        total_accuracy = 100*correct_predictions/total_predictions\n",
    "\n",
    "        print(f\"Loss : {loss} || Accuracy : {total_accuracy}\")\n",
    "\n",
    "\n",
    "\n",
    "        return (Actual_values,Predicted_Values)\n",
    "\n"
   ]
  },
  {
   "cell_type": "code",
   "execution_count": null,
   "id": "49c2c676",
   "metadata": {},
   "outputs": [],
   "source": [
    "# data directory \n",
    "root_dir = 'dataset'\n",
    "test_dir = os.path.join(root_dir,'test')"
   ]
  },
  {
   "cell_type": "code",
   "execution_count": null,
   "id": "7ad67e7a",
   "metadata": {},
   "outputs": [],
   "source": [
    "# walk throught directories\n",
    "print(\"===========Directory Structure=========\")\n",
    "for dirpath,dirnames,filename in os.walk(test_dir):\n",
    "        print(f\"there are {len(dirnames)} directories and {len(filename)} images in '{dirpath}\")"
   ]
  },
  {
   "cell_type": "code",
   "execution_count": null,
   "id": "77c1562f",
   "metadata": {},
   "outputs": [],
   "source": [
    "# transform\n",
    "transform = transforms.Compose([\n",
    "    transforms.Resize(size=(128,128)),\n",
    "    transforms.ToTensor()\n",
    "])\n"
   ]
  },
  {
   "cell_type": "code",
   "execution_count": null,
   "id": "63c08c97",
   "metadata": {},
   "outputs": [],
   "source": [
    "# test data\n",
    "test_data = ImageFolder(root=test_dir,transform=transform,target_transform=None)\n",
    "classes = test_data.classes\n",
    "classes2idx = test_data.class_to_idx\n",
    "idx2classes = {idx:label for label,idx in classes2idx.items()}"
   ]
  },
  {
   "cell_type": "code",
   "execution_count": null,
   "id": "155d6d42",
   "metadata": {},
   "outputs": [],
   "source": [
    "model = models.densenet121(pretrained=True)\n",
    "num_features = model.classifier.in_features\n",
    "model.classifier = nn.Sequential(\n",
    "    nn.Linear(num_features, 4096),\n",
    "    nn.ReLU(True),\n",
    "    nn.Dropout(0.5),\n",
    "    nn.Linear(4096, 1024),\n",
    "    nn.ReLU(True),\n",
    "    nn.Dropout(0.5),\n",
    "    nn.Linear(1024, 8),        \n",
    ")\n",
    "\n",
    "# torch.serialization.add_safe_globals({'VGG': models.VGG})\n",
    "# model = torch.load('models/vgg16_model_1.pth', weights_only=False)\n",
    "\n",
    "model.load_state_dict(torch.load('models/densenet_new_40_model.pth',weights_only=True,map_location=torch.device(device)))\n",
    "model.to(device)"
   ]
  },
  {
   "cell_type": "code",
   "execution_count": null,
   "id": "268d1f6f",
   "metadata": {},
   "outputs": [],
   "source": [
    "# test DataLoader \n",
    "test_dataLoader = DataLoader(dataset=test_data,batch_size=16,shuffle=True,num_workers=0)\n",
    "\n",
    "# loss function\n",
    "loss_fn = nn.CrossEntropyLoss()"
   ]
  },
  {
   "cell_type": "code",
   "execution_count": null,
   "id": "d93034da",
   "metadata": {},
   "outputs": [],
   "source": [
    "Actual_values,Predicted_Values = testing_loop(model,test_dataLoader,loss_fn)"
   ]
  },
  {
   "cell_type": "code",
   "execution_count": null,
   "id": "b8cb674b",
   "metadata": {},
   "outputs": [],
   "source": [
    "# creating dataframe\n",
    "Actual_Predicted_df = pd.DataFrame({\"Actual\" : Actual_values,\n",
    "                                    \"Predicted_Values\" : Predicted_Values})\n",
    "\n",
    "# confusion matrix\n",
    "confusion_matrix = confusion_matrix(Actual_values,Predicted_Values)\n",
    "sns.heatmap(confusion_matrix,annot=True,xticklabels=classes, yticklabels=classes)\n",
    "\n",
    "plt.show()"
   ]
  }
 ],
 "metadata": {
  "language_info": {
   "name": "python"
  }
 },
 "nbformat": 4,
 "nbformat_minor": 5
}
